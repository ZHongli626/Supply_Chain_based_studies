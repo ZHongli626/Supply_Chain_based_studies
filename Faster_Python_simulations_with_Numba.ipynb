{
  "nbformat": 4,
  "nbformat_minor": 0,
  "metadata": {
    "colab": {
      "provenance": [],
      "authorship_tag": "ABX9TyO+lvBnx2JDagku1uLgvGlV",
      "include_colab_link": true
    },
    "kernelspec": {
      "name": "python3",
      "display_name": "Python 3"
    },
    "language_info": {
      "name": "python"
    },
    "gpuClass": "standard",
    "accelerator": "GPU"
  },
  "cells": [
    {
      "cell_type": "markdown",
      "metadata": {
        "id": "view-in-github",
        "colab_type": "text"
      },
      "source": [
        "<a href=\"https://colab.research.google.com/github/ZHongli626/Supply_Chain_based_studies/blob/main/Faster_Python_simulations_with_Numba.ipynb\" target=\"_parent\"><img src=\"https://colab.research.google.com/assets/colab-badge.svg\" alt=\"Open In Colab\"/></a>"
      ]
    },
    {
      "cell_type": "markdown",
      "source": [
        "This is a replication of the work by Linnart Felkl. Link: https://www.supplychaindataanalytics.com/faster-python-simulations-with-numba/"
      ],
      "metadata": {
        "id": "p62eMlmHb4ZZ"
      }
    },
    {
      "cell_type": "code",
      "execution_count": null,
      "metadata": {
        "colab": {
          "base_uri": "https://localhost:8080/"
        },
        "id": "CRvNvor4b0Mz",
        "outputId": "56cdc294-f2e4-4aad-ee0c-069eca74764e"
      },
      "outputs": [
        {
          "output_type": "stream",
          "name": "stdout",
          "text": [
            "23.375670671463013\n",
            "1.7599093914031982\n",
            "0.9785137176513672\n"
          ]
        }
      ],
      "source": [
        "# Compare the runtime of numba and normal\n",
        "\n",
        "import numpy as np\n",
        "\n",
        "from numba import jit\n",
        "\n",
        "import random\n",
        "import time\n",
        "\n",
        "def rand_events(n: int) -> np.ndarray:\n",
        "    ls = np.zeros(n)\n",
        "    for i in range(n):\n",
        "        x = random.random()\n",
        "        while True:\n",
        "            y = random.random()\n",
        "            if x < y: \n",
        "                ls[i] = y\n",
        "                break\n",
        "    return ls\n",
        "\n",
        "\"\"\" RUNTIME TEST WITHOUT NUMBA  -------------------------- \"\"\"\n",
        "\n",
        "_start_time = time.time()\n",
        "vals = rand_events(10000000)\n",
        "_end_time = time.time()\n",
        "\n",
        "print(str(_end_time - _start_time))\n",
        "\n",
        "\"\"\" RUNTIME TEST WITH NUMBA ------------------------------ \"\"\"\n",
        "\n",
        "_start_time = time.time()\n",
        "jit_rand_events = jit(nopython=True)(rand_events)\n",
        "vals = jit_rand_events(10000000)\n",
        "_end_time = time.time()\n",
        "\n",
        "print(str(_end_time-_start_time))\n",
        "\n",
        "_start_time = time.time()\n",
        "vals = jit_rand_events(10000000)\n",
        "_end_time = time.time()\n",
        "\n",
        "print(str(_end_time-_start_time))"
      ]
    },
    {
      "cell_type": "code",
      "source": [],
      "metadata": {
        "id": "vYqZgMUDdm7r"
      },
      "execution_count": null,
      "outputs": []
    }
  ]
}